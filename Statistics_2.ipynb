{
 "cells": [
  {
   "cell_type": "markdown",
   "id": "8a2dd447-d2a6-46af-979f-249b1b119bd5",
   "metadata": {},
   "source": [
    "ASSIGNMENT: STATISTICS:2"
   ]
  },
  {
   "cell_type": "markdown",
   "id": "2f25791f-ee33-4a4b-a25c-529d79a71828",
   "metadata": {},
   "source": [
    "1.  What are the three measures of central tendency?"
   ]
  },
  {
   "cell_type": "markdown",
   "id": "6a38aef1-9337-4752-bad7-9ac5a3bddf80",
   "metadata": {},
   "source": [
    "The three measures of central tendency are:\n",
    "\n",
    "Mean: The mean is the arithmetic average of a set of numbers. It is calculated by adding up all the values in the set and dividing by the total number of values.\n",
    "\n",
    "Median: The median is the middle value in a set of numbers when they are arranged in order. If there is an even number of values in the set, then the median is the average of the two middle values.\n",
    "\n",
    "Mode: The mode is the value that appears most frequently in a set of numbers. A set of numbers can have one mode, more than one mode (if there are multiple values that occur with the same highest frequency), or no mode (if no value occurs more than any other value)."
   ]
  },
  {
   "cell_type": "markdown",
   "id": "81304092-1458-4836-b3b6-79c8874260e8",
   "metadata": {},
   "source": [
    "2. What is the difference between the mean, median, and mode? How are they used to measure the \n",
    "central tendency of a dataset?"
   ]
  },
  {
   "cell_type": "markdown",
   "id": "123cbcf0-1fca-4466-8c5d-76c6248eefb3",
   "metadata": {},
   "source": [
    "Mean,median and mode are used to study the distribution at different instances, for example:\n",
    "    \n",
    "    Mean:\n",
    "When analyzing the average salary of employees in a company.\n",
    "When calculating the average score of students in a test.\n",
    "When calculating the average daily temperature in a city over a month.\n",
    "\n",
    "\n",
    "Median:\n",
    "\n",
    "\n",
    "When calculating the average income of a group of people, where a few high-income earners may skew the mean.\n",
    "When analyzing the prices of houses in a neighborhood, where a few very expensive or very cheap houses may skew the mean.\n",
    "When analyzing the distribution of ages in a population, where a few very young or very old individuals may skew the mean.\n",
    "\n",
    "\n",
    "Mode:\n",
    "\n",
    "\n",
    "When analyzing the most common color of cars in a parking lot.\n",
    "When analyzing the most common type of crime in a city.\n",
    "When analyzing the most frequently occurring word in a book.\n",
    "\n",
    "\n",
    "It's important to note that these are just examples, and the choice of measure of central tendency depends on the specific characteristics of the dataset and the research question being asked. It's often a good practice to use more than one measure of central tendency to get a complete picture of the data."
   ]
  },
  {
   "cell_type": "markdown",
   "id": "c9c57133-92ad-4f18-a35b-1a33facccd7a",
   "metadata": {},
   "source": [
    "3.  Measure the three measures of central tendency for the given height data:"
   ]
  },
  {
   "cell_type": "code",
   "execution_count": 4,
   "id": "ced58afa-a840-46b2-a927-6bd609f0d861",
   "metadata": {},
   "outputs": [],
   "source": [
    "import pandas as pd\n",
    "df= pd.DataFrame([178,177,176,177,178.2,178,175,179,180,175,178.9,176.2,177,172.5,178,176.5])\n"
   ]
  },
  {
   "cell_type": "code",
   "execution_count": 5,
   "id": "50032695-0bbf-4a6d-a722-bdd7583994d0",
   "metadata": {},
   "outputs": [
    {
     "data": {
      "text/plain": [
       "0    177.01875\n",
       "dtype: float64"
      ]
     },
     "execution_count": 5,
     "metadata": {},
     "output_type": "execute_result"
    }
   ],
   "source": [
    "df.mean()"
   ]
  },
  {
   "cell_type": "code",
   "execution_count": 6,
   "id": "fb348c44-6a14-474c-8e8f-9264ad2a1a17",
   "metadata": {},
   "outputs": [
    {
     "data": {
      "text/plain": [
       "0    177.0\n",
       "dtype: float64"
      ]
     },
     "execution_count": 6,
     "metadata": {},
     "output_type": "execute_result"
    }
   ],
   "source": [
    "df.median()"
   ]
  },
  {
   "cell_type": "code",
   "execution_count": 7,
   "id": "3f8ed03d-0518-4e62-9312-7071e6a37977",
   "metadata": {},
   "outputs": [
    {
     "data": {
      "text/html": [
       "<div>\n",
       "<style scoped>\n",
       "    .dataframe tbody tr th:only-of-type {\n",
       "        vertical-align: middle;\n",
       "    }\n",
       "\n",
       "    .dataframe tbody tr th {\n",
       "        vertical-align: top;\n",
       "    }\n",
       "\n",
       "    .dataframe thead th {\n",
       "        text-align: right;\n",
       "    }\n",
       "</style>\n",
       "<table border=\"1\" class=\"dataframe\">\n",
       "  <thead>\n",
       "    <tr style=\"text-align: right;\">\n",
       "      <th></th>\n",
       "      <th>0</th>\n",
       "    </tr>\n",
       "  </thead>\n",
       "  <tbody>\n",
       "    <tr>\n",
       "      <th>0</th>\n",
       "      <td>177.0</td>\n",
       "    </tr>\n",
       "    <tr>\n",
       "      <th>1</th>\n",
       "      <td>178.0</td>\n",
       "    </tr>\n",
       "  </tbody>\n",
       "</table>\n",
       "</div>"
      ],
      "text/plain": [
       "       0\n",
       "0  177.0\n",
       "1  178.0"
      ]
     },
     "execution_count": 7,
     "metadata": {},
     "output_type": "execute_result"
    }
   ],
   "source": [
    "df.mode()"
   ]
  },
  {
   "cell_type": "markdown",
   "id": "0a1bba68-c458-4703-819f-f9900f527419",
   "metadata": {},
   "source": [
    "4. Find the standard deviation for the given data:"
   ]
  },
  {
   "cell_type": "code",
   "execution_count": 8,
   "id": "7173279c-d090-45a5-a495-7807effb41c9",
   "metadata": {},
   "outputs": [
    {
     "data": {
      "text/plain": [
       "0    1.847239\n",
       "dtype: float64"
      ]
     },
     "execution_count": 8,
     "metadata": {},
     "output_type": "execute_result"
    }
   ],
   "source": [
    "df.std()"
   ]
  },
  {
   "cell_type": "markdown",
   "id": "c2d31db7-668d-43b1-9063-edc0bc6d9d6b",
   "metadata": {},
   "source": [
    "5. How are measures of dispersion such as range, variance, and standard deviation used to describe \n",
    "the spread of a dataset? Provide an example"
   ]
  },
  {
   "cell_type": "markdown",
   "id": "1f778e8b-d4dc-4c73-88c9-7ffdfa494208",
   "metadata": {},
   "source": [
    "Range: The range is the difference between the largest and smallest values in a dataset. It provides a simple measure of the spread of a dataset. For example, if the range of the ages of students in a class is 20 years, it means that the oldest student is 20 years older than the youngest student.\n",
    "\n",
    "Variance: The variance is the average of the squared differences from the mean of a set of numbers. It measures how much the values in a dataset deviate from the mean. A high variance indicates that the values are spread out over a wider range, while a low variance indicates that the values are clustered closely around the mean. Variance is often used in statistical analysis to calculate other measures, such as the standard deviation.\n",
    "\n",
    "Standard deviation: The standard deviation is the square root of the variance. It is a measure of the spread of the values in a dataset relative to the mean. It indicates how much the values deviate from the mean in the same units as the original data. A high standard deviation indicates that the values are more spread out, while a low standard deviation indicates that the values are more tightly clustered around the mean.\n",
    "\n",
    "For example, let's say we have a dataset of the test scores of ten students: 60, 65, 70, 75, 80, 85, 90, 95, 100, 105. We can use measures of dispersion to describe the spread of these scores as follows:\n",
    "\n",
    "Range: The range of the scores is 105 - 60 = 45, which means that the highest score is 45 points higher than the lowest score.\n",
    "\n",
    "Variance: To calculate the variance, we first find the mean of the scores, which is (60+65+70+75+80+85+90+95+100+105) / 10 = 80. We then find the squared differences from the mean for each score: (60-80)^2, (65-80)^2, (70-80)^2, and so on. We add up these squared differences and divide by the number of scores minus 1, which gives us a variance of 291.67.\n",
    "\n",
    "Standard deviation: The standard deviation is the square root of the variance, which is approximately 17.08. This tells us that the scores are spread out from the mean by an average of 17.08 points."
   ]
  },
  {
   "cell_type": "markdown",
   "id": "63957141-d851-430f-b949-b07d3bc53534",
   "metadata": {},
   "source": [
    "6. What is a Venn diagram?"
   ]
  },
  {
   "cell_type": "markdown",
   "id": "7db1ba3c-6fe0-4996-afc8-901ef68205dc",
   "metadata": {},
   "source": [
    "A Venn diagram is a graphical representation of the relationships between sets of data. It consists of a series of overlapping circles or ellipses, each representing a set, and the regions of overlap represent the elements or data points that belong to multiple sets.\n",
    "\n",
    "Venn diagrams are often used in mathematics, statistics, and logic to illustrate th"
   ]
  },
  {
   "cell_type": "markdown",
   "id": "ff0947c9-6d10-4871-94e0-fe3ae700bccf",
   "metadata": {},
   "source": [
    "7.  For the two given sets A = (2,3,4,5,6,7) & B = (0,2,6,8,10). Find:\n",
    "\n",
    "(i) \tA ⋂ B\n",
    "\n",
    "(ii)\tA ⋃ B"
   ]
  },
  {
   "cell_type": "code",
   "execution_count": 9,
   "id": "1b11df20-cd8b-40d4-8702-da2ce8fc4807",
   "metadata": {},
   "outputs": [
    {
     "name": "stdout",
     "output_type": "stream",
     "text": [
      "Intersection of A and B: {2, 6}\n",
      "Intersection of A and B: {0, 2, 3, 4, 5, 6, 7, 8, 10}\n"
     ]
    }
   ],
   "source": [
    "A = {2,3,4,5,6,7}\n",
    "B = {0,2,6,8,10}\n",
    "intersection = A.intersection(B)\n",
    "print(\"Intersection of A and B:\", intersection)\n",
    "union = A.union(B)\n",
    "print(\"Intersection of A and B:\", union)\n",
    "\n",
    "\n"
   ]
  },
  {
   "cell_type": "markdown",
   "id": "d331d3a5-9b49-4c90-93ab-994f6c9e7f29",
   "metadata": {},
   "source": [
    "8. . What do you understand about skewness in data?"
   ]
  },
  {
   "cell_type": "markdown",
   "id": "a57ec41f-ea82-4cb1-9236-faf780356bff",
   "metadata": {},
   "source": [
    "Skewness is a measure of the asymmetry of a distribution of data around its mean. A distribution can be:\n",
    "\n",
    "Symmetrical: if the left half of the distribution is a mirror image of the right half. In other words, the mean, median, and mode of the distribution are equal.\n",
    "Positively skewed: if the tail of the distribution is on the right side and the mean is greater than the median. In other words, the distribution has a long tail towards the right.\n",
    "Negatively skewed: if the tail of the distribution is on the left side and the mean is less than the median. In other words, the distribution has a long tail towards the left."
   ]
  },
  {
   "cell_type": "markdown",
   "id": "ba6e75bc-ce1e-483b-bab1-150b922c989a",
   "metadata": {},
   "source": [
    "9.  If a data is right skewed then what will be the position of median with respect to mean?"
   ]
  },
  {
   "cell_type": "markdown",
   "id": "f488a0e7-c6fb-46ac-ae10-1fbcac1a8fa2",
   "metadata": {},
   "source": [
    "mode>median>mean"
   ]
  },
  {
   "cell_type": "markdown",
   "id": "35d404c1-3db5-448d-a09e-2d81d0d8ab25",
   "metadata": {},
   "source": [
    "10. Explain the difference between covariance and correlation. How are these measures used in \n",
    "statistical analysis?"
   ]
  },
  {
   "cell_type": "markdown",
   "id": "2b8be210-a970-4632-9cc4-94ed58eab114",
   "metadata": {},
   "source": [
    "Covariance and correlation are both measures of the relationship between two variables, but they differ in their interpretation and scale.\n",
    "\n",
    "Covariance measures the extent to which two variables are linearly related. It measures how much the variables change together, and whether the change is positive or negative. A positive covariance indicates that the two variables tend to increase or decrease together, while a negative covariance indicates that they tend to move in opposite directions. However, the magnitude of the covariance depends on the scale of the variables and can be difficult to interpret.\n",
    "\n",
    "Correlation, on the other hand, measures the strength and direction of the linear relationship between two variables, and is not affected by the scale of the variables. Correlation ranges between -1 and +1, with a value of 0 indicating no correlation, a value of -1 indicating a perfect negative correlation, and a value of +1 indicating a perfect positive correlation.\n",
    "\n",
    "Both covariance and correlation are used in statistical analysis to explore the relationship between two variables, and to test hypotheses about that relationship. Correlation is a more commonly used measure than covariance, due to its standardized interpretation and ease of use. In addition, correlation is used to identify the strength of a relationship between two variables, while covariance is used to determine the direction of the relationship, but not its strength."
   ]
  },
  {
   "cell_type": "markdown",
   "id": "7e78eb86-3465-49b3-8a7b-3440c81df9f6",
   "metadata": {},
   "source": [
    "11. What is the formula for calculating the sample mean? Provide an example calculation for a \n",
    "dataset"
   ]
  },
  {
   "cell_type": "markdown",
   "id": "3f41a4e1-e270-4f38-b9a8-1e97469b8f41",
   "metadata": {},
   "source": [
    "The formula for calculating the sample mean is:\n",
    "\n",
    "sample mean = (sum of all the values in the dataset) / (number of values in the dataset)\n",
    "\n",
    "Here's an example calculation for a dataset:\n",
    "\n",
    "Suppose you have the following dataset: [5, 7, 9, 11, 13]\n",
    "\n",
    "To find the sample mean, you first need to add up all the values in the dataset:\n",
    "\n",
    "sum of values = 5 + 7 + 9 + 11 + 13 = 45\n",
    "\n",
    "Next, you need to divide the sum of the values by the number of values in the dataset:\n",
    "\n",
    "sample mean = 45 / 5 = 9\n",
    "\n",
    "Therefore, the sample mean for this dataset is 9."
   ]
  },
  {
   "cell_type": "markdown",
   "id": "a49bca9f-d4ad-4af0-87d9-63f1901a254e",
   "metadata": {},
   "source": [
    "The formula for sample mean is:\n",
    "\n",
    "x̄ = (Σx) / n-1"
   ]
  },
  {
   "cell_type": "markdown",
   "id": "b8ee3310-e664-48b8-acaa-5ddebcb4d61b",
   "metadata": {},
   "source": [
    "12. For a normal distribution data what is the relationship between its measure of central tendency?"
   ]
  },
  {
   "cell_type": "markdown",
   "id": "c74345ce-745e-4d0d-afc9-d9a7e60c8ffb",
   "metadata": {},
   "source": [
    "mean=meadian=mode"
   ]
  },
  {
   "cell_type": "markdown",
   "id": "8222e1cd-ee9d-406c-8e7f-9f00d644a9dd",
   "metadata": {},
   "source": [
    "This property of a normal distribution is known as the symmetry property, where the distribution is symmetric around the center. This symmetry means that the mean, median, and mode all have the same value and are located at the same point, which is the highest point of the curve."
   ]
  },
  {
   "cell_type": "markdown",
   "id": "0b6266f5-4c3b-4edd-b73e-450413361d25",
   "metadata": {},
   "source": [
    "13. How is covariance different from correlation?\n"
   ]
  },
  {
   "cell_type": "markdown",
   "id": "08a18274-c7e6-40fe-b43e-c58a9e13a5de",
   "metadata": {},
   "source": [
    "Covariance and correlation are two measures of the relationship between two variables.\n",
    "\n",
    "Covariance measures the degree to which two variables vary together. It measures how much two variables change together, and whether they have a positive or negative relationship. The formula for covariance is:\n",
    "\n",
    "cov(X,Y) = E[(X - E[X]) * (Y - E[Y])]\n",
    "\n",
    "where:\n",
    "X and Y are two random variables\n",
    "E[X] and E[Y] are their respective expected values\n",
    "\n",
    "Covariance can take on any value, including negative values, and its magnitude depends on the scales of the variables being measured. A positive covariance indicates that the variables tend to increase or decrease together, while a negative covariance indicates that one variable tends to increase while the other decreases.\n",
    "\n",
    "Correlation, on the other hand, measures the strength and direction of the linear relationship between two variables. It is a standardized measure that ranges from -1 to +1. The formula for correlation is:\n",
    "\n",
    "corr(X,Y) = cov(X,Y) / (SD(X) * SD(Y))\n",
    "\n",
    "where:\n",
    "cov(X,Y) is the covariance between X and Y\n",
    "SD(X) and SD(Y) are their respective standard deviations\n",
    "\n",
    "Correlation measures the degree to which two variables are related in a linear fashion. A correlation of +1 indicates a perfect positive linear relationship, while a correlation of -1 indicates a perfect negative linear relationship. A correlation of 0 indicates no linear relationship between the variables."
   ]
  },
  {
   "cell_type": "markdown",
   "id": "42562eef-151e-45be-a987-a7422d2a3a7a",
   "metadata": {},
   "source": [
    "14. How do outliers affect measures of central tendency and dispersion? Provide an example"
   ]
  },
  {
   "cell_type": "markdown",
   "id": "f3d60d54-ee60-42d4-8dbe-a72645e6fe9b",
   "metadata": {},
   "source": [
    "Outliers can have a significant impact on measures of central tendency and dispersion, particularly on the mean and standard deviation.\n",
    "\n",
    "The mean is sensitive to outliers because it takes into account all values in the dataset, and outliers can significantly influence its value. If a dataset has one or more extreme values, the mean will be pulled towards the direction of the outlier. For example, consider the following dataset:\n",
    "\n",
    "2, 3, 4, 5, 6, 100\n",
    "\n",
    "The mean of this dataset is (2+3+4+5+6+100) / 6 = 20, which is heavily influenced by the outlier value of 100. In this case, the mean does not provide an accurate representation of the typical value in the dataset.\n",
    "\n",
    "On the other hand, the median is less affected by outliers because it only considers the middle value(s) of the dataset. For the same dataset above, the median would be the middle value of the sorted dataset, which is 4.5. This value is a better representation of the typical value in the dataset.\n",
    "\n",
    "Standard deviation, which is a measure of the spread of the data, can also be affected by outliers. Outliers can increase the standard deviation and make it appear that the data is more spread out than it actually is. This is because the standard deviation takes into account the distance between each value and the mean, and outliers can increase this distance. For example, consider the following dataset:\n",
    "\n",
    "1, 2, 3, 4, 5, 50\n",
    "\n",
    "The standard deviation of this dataset is approximately 18.46, which is heavily influenced by the outlier value of 50. In this case, the standard deviation does not provide an accurate representation of the spread of the data.\n",
    "\n",
    "In summary, outliers can have a significant impact on measures of central tendency and dispersion. The mean is particularly sensitive to outliers, while the median is less affected. Similarly, the standard deviation can be heavily influenced by outliers and may not provide an accurate representation of the spread of the data. It is important to identify and handle outliers appropriately to ensure that statistical analyses are accurate and reliable."
   ]
  },
  {
   "cell_type": "code",
   "execution_count": null,
   "id": "92efa1a1-b587-4fde-aaaf-b0fa6f3d9540",
   "metadata": {},
   "outputs": [],
   "source": []
  }
 ],
 "metadata": {
  "kernelspec": {
   "display_name": "Python 3 (ipykernel)",
   "language": "python",
   "name": "python3"
  },
  "language_info": {
   "codemirror_mode": {
    "name": "ipython",
    "version": 3
   },
   "file_extension": ".py",
   "mimetype": "text/x-python",
   "name": "python",
   "nbconvert_exporter": "python",
   "pygments_lexer": "ipython3",
   "version": "3.10.8"
  }
 },
 "nbformat": 4,
 "nbformat_minor": 5
}
